{
  "nbformat": 4,
  "nbformat_minor": 0,
  "metadata": {
    "colab": {
      "provenance": [],
      "authorship_tag": "ABX9TyMHnMTTfJx28JfuPoUKH0Ja",
      "include_colab_link": true
    },
    "kernelspec": {
      "name": "python3",
      "display_name": "Python 3"
    },
    "language_info": {
      "name": "python"
    }
  },
  "cells": [
    {
      "cell_type": "markdown",
      "metadata": {
        "id": "view-in-github",
        "colab_type": "text"
      },
      "source": [
        "<a href=\"https://colab.research.google.com/github/ricardoricrob76/plp2024/blob/main/Aula01-python.ipynb\" target=\"_parent\"><img src=\"https://colab.research.google.com/assets/colab-badge.svg\" alt=\"Open In Colab\"/></a>"
      ]
    },
    {
      "cell_type": "code",
      "execution_count": 1,
      "metadata": {
        "id": "o5K8x6DOwjze"
      },
      "outputs": [],
      "source": [
        "# curso de python primeiros passos\n",
        "# Autor: Ricardo\n"
      ]
    },
    {
      "cell_type": "code",
      "source": [
        "calctriangulo = (30 * 5)/2\n"
      ],
      "metadata": {
        "id": "S-IdjoIuwr8X"
      },
      "execution_count": 2,
      "outputs": []
    },
    {
      "cell_type": "code",
      "source": [
        "print(\"o valor do triangulo é\", calctriangulo)"
      ],
      "metadata": {
        "colab": {
          "base_uri": "https://localhost:8080/"
        },
        "id": "QUIBHZX7w3-d",
        "outputId": "95513632-2777-4516-9219-85fd2eefb47d"
      },
      "execution_count": 4,
      "outputs": [
        {
          "output_type": "stream",
          "name": "stdout",
          "text": [
            "o valor do triangulo é 75.0\n"
          ]
        }
      ]
    },
    {
      "cell_type": "code",
      "source": [],
      "metadata": {
        "id": "F3LkpSHrw8M3"
      },
      "execution_count": null,
      "outputs": []
    }
  ]
}